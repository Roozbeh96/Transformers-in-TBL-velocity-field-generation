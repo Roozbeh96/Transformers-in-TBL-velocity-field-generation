{
  "nbformat": 4,
  "nbformat_minor": 0,
  "metadata": {
    "colab": {
      "provenance": [],
      "authorship_tag": "ABX9TyNUrCFW1RxpumWdJNoN0GDB",
      "include_colab_link": true
    },
    "kernelspec": {
      "name": "python3",
      "display_name": "Python 3"
    },
    "language_info": {
      "name": "python"
    }
  },
  "cells": [
    {
      "cell_type": "markdown",
      "metadata": {
        "id": "view-in-github",
        "colab_type": "text"
      },
      "source": [
        "<a href=\"https://colab.research.google.com/github/Roozbeh96/Transformers-in-TBL-velocity-field-generation/blob/Master/Main.ipynb\" target=\"_parent\"><img src=\"https://colab.research.google.com/assets/colab-badge.svg\" alt=\"Open In Colab\"/></a>"
      ]
    },
    {
      "cell_type": "code",
      "execution_count": 1,
      "metadata": {
        "id": "TL_34zVl9g4U"
      },
      "outputs": [],
      "source": [
        "import numpy as np\n",
        "from sklearn.model_selection import train_test_split\n",
        "import matplotlib.pyplot as plt"
      ]
    },
    {
      "cell_type": "markdown",
      "source": [
        "# **Downloading dataset from Data Reposiory for the University of Minnesota (DRUM)**\n",
        "PIVMWT7: PIV(Meshed) wind tunnel dataset for 7[m/s]\n",
        "\n",
        "PIVMWT10: PIV(Meshed) wind tunnel dataset for 10[m/s]\n",
        "\n",
        "A,B: section A, and section B\n",
        "\n"
      ],
      "metadata": {
        "id": "1mGSys7YPFtx"
      }
    },
    {
      "cell_type": "code",
      "source": [
        "# 7 [m/s]\n",
        "!wget -O PIVMWT7A.mat \"https://conservancy.umn.edu/bitstreams/3852c8e4-d726-4c2c-ba2a-f025052a34c3/download\"\n",
        "!wget -O PIVMWT7B.mat \"https://conservancy.umn.edu/bitstreams/58eab2a0-5d8e-4e4e-ba2a-a47fb1c49a4e/download\"\n",
        "!wget -O scaling_paramPIVMWT7.mat \"https://conservancy.umn.edu/bitstreams/2874cfc0-963e-4043-a12f-e35d7a7a10a2/download\"\n",
        "\n",
        "# 10 [m/s]\n",
        "# !wget -O PIVMWT10A.mat \"https://conservancy.umn.edu/bitstreams/e8effbf8-842c-4fa0-bf1f-3a03fc5064f0/download\"\n",
        "# !wget -O PIVMWT10B.mat \"https://conservancy.umn.edu/bitstreams/eeab74b5-ee38-4e65-b153-e2c790c9b574/download\"\n",
        "# !wget -O scaling_paramPIVMWT10.mat \"https://conservancy.umn.edu/bitstreams/26f4c028-4aa4-4b4d-bfd6-3d6cd40be4e0/download\"\n"
      ],
      "metadata": {
        "id": "XV72XDNTNZUD"
      },
      "execution_count": null,
      "outputs": []
    },
    {
      "cell_type": "code",
      "source": [
        "import scipy.io\n",
        "import h5py"
      ],
      "metadata": {
        "id": "K7Ap66R8NtTw"
      },
      "execution_count": 10,
      "outputs": []
    },
    {
      "cell_type": "code",
      "source": [
        "PIVMWT7A = h5py.File(r'/content/PIVMWT7A.mat')\n",
        "PIVMWT7B = h5py.File(r'/content/PIVMWT7B.mat')\n",
        "print(PIVMWT7A.keys())\n",
        "\n",
        "# PIVMWT10A = h5py.File(r'/content/PIVMWT10A.mat')\n",
        "# PIVMWT10B = h5py.File(r'/content/PIVMWT10B.mat')\n",
        "# print(PIVMWT10A.keys())"
      ],
      "metadata": {
        "id": "zbl0wOfvQIbU",
        "outputId": "5d37dd03-2fb8-4e5f-9d61-d0ba74bb1870",
        "colab": {
          "base_uri": "https://localhost:8080/"
        }
      },
      "execution_count": 20,
      "outputs": [
        {
          "output_type": "stream",
          "name": "stdout",
          "text": [
            "<KeysViewHDF5 ['u', 'w', 'x', 'z']>\n"
          ]
        }
      ]
    },
    {
      "cell_type": "code",
      "source": [
        "scaling_paramPIVMWT7 = scipy.io.loadmat('scaling_paramPIVMWT7.mat')\n",
        "# scaling_paramPIVMWT10 = scipy.io.loadmat('scaling_paramPIVMWT10.mat')\n",
        "\n",
        "print(scaling_paramPIVMWT7.keys())"
      ],
      "metadata": {
        "id": "8Qq5s40yV-MA",
        "outputId": "62eb6345-1698-4d88-b620-e5c202d843b2",
        "colab": {
          "base_uri": "https://localhost:8080/"
        }
      },
      "execution_count": 18,
      "outputs": [
        {
          "output_type": "stream",
          "name": "stdout",
          "text": [
            "dict_keys(['__header__', '__version__', '__globals__', 'Re_tau', 'U_inf', 'delta', 'k_s', 'nu', 'u_tau'])\n"
          ]
        }
      ]
    },
    {
      "cell_type": "code",
      "source": [
        "u_tauPIVMWT7 = scaling_paramPIVMWT7['u_tau']\n",
        "nuPIVMWT7 = scaling_paramPIVMWT7['nu']\n",
        "ksPIVMWT7 = scaling_paramPIVMWT7['k_s']\n",
        "deltaPIVMWT7 = scaling_paramPIVMWT7['delta']\n",
        "\n",
        "# u_tauPIVMWT10 = scaling_paramPIVMWT10['u_tau']\n",
        "# nuPIVMWT10 = scaling_paramPIVMWT10['nu']\n",
        "# ksPIVMWT10 = scaling_paramPIVMWT10['k_s']\n",
        "# deltaPIVMWT10 = scaling_paramPIVMWT10['delta']"
      ],
      "metadata": {
        "id": "Q-NIeKJjWLym"
      },
      "execution_count": null,
      "outputs": []
    },
    {
      "cell_type": "code",
      "source": [
        "uPIVMWT7A = PIVMWT7A['u'][:]\n",
        "wPIVMWT7A = PIVMWT7A['w'][:]\n",
        "xPIVMWT7A = PIVMWT7A['x'][:]\n",
        "zPIVMWT7A = PIVMWT7A['z'][:]\n",
        "\n",
        "uPIVMWT7B = PIVMWT7B['u'][:]\n",
        "wPIVMWT7B = PIVMWT7B['w'][:]\n",
        "xPIVMWT7B = PIVMWT7B['x'][:]\n",
        "zPIVMWT7B = PIVMWT7B['z'][:]"
      ],
      "metadata": {
        "id": "tCxk53nUTFhj"
      },
      "execution_count": 25,
      "outputs": []
    },
    {
      "cell_type": "code",
      "source": [
        "# uPIVMWT10A = PIVMWT10A['u'][:]\n",
        "# wPIVMWT10A = PIVMWT10A['w'][:]\n",
        "# xPIVMWT10A = PIVMWT10A['x'][:]\n",
        "# zPIVMWT10A = PIVMWT10A['z'][:]\n",
        "\n",
        "# uPIVMWT10B = PIVMWT10B['u'][:]\n",
        "# wPIVMWT10B = PIVMWT10B['w'][:]\n",
        "# xPIVMWT10B = PIVMWT10B['x'][:]\n",
        "# zPIVMWT10B = PIVMWT10B['z'][:]"
      ],
      "metadata": {
        "id": "JJ84DGMXUdvb"
      },
      "execution_count": 27,
      "outputs": []
    }
  ]
}